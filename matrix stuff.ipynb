{
 "cells": [
  {
   "cell_type": "code",
   "execution_count": 1,
   "id": "4528d9f7",
   "metadata": {},
   "outputs": [
    {
     "name": "stdout",
     "output_type": "stream",
     "text": [
      "[[x y]\n",
      " [z w]]\n"
     ]
    }
   ],
   "source": [
    "import numpy as np\n",
    "from sympy import *\n",
    "\n",
    "x=Symbol(\"x\")\n",
    "y=Symbol(\"y\")\n",
    "z=Symbol(\"z\")\n",
    "w=Symbol(\"w\")\n",
    "\n",
    "a=np.matrix([[x,y],[z,w]])\n",
    "print(a)"
   ]
  },
  {
   "cell_type": "code",
   "execution_count": 234,
   "id": "bd6a67cd",
   "metadata": {},
   "outputs": [],
   "source": [
    "def adj(a):\n",
    "    global a_new\n",
    "    if a.shape[0]==a.shape[1]:\n",
    "        pass\n",
    "    elif a.shape[0]!=a.shape[1]:\n",
    "        print(\"nah cunt try again\")\n",
    "    c_=[]\n",
    "    for i in range(a.shape[0]):\n",
    "        c=np.copy(a)\n",
    "        for j in range(a.shape[0]):\n",
    "            c_i=np.delete(c,j,0)\n",
    "            c_i=np.delete(c_i,i,1)\n",
    "            c_a=np.linalg.det(c_i)\n",
    "            c_.append(c_a)\n",
    "    #print(c_)\n",
    "    c_new=[]\n",
    "    if a.shape[0]%2==0:\n",
    "        #print(\"not done yet\")\n",
    "        for i in range(a.shape[0]):\n",
    "            #print(int(len(c_))/a.shape[0])\n",
    "            mul=int(i*(int(len(c_))/a.shape[0]))\n",
    "            #print(mul%2)\n",
    "            if i%2==0:\n",
    "                for j in range(a.shape[0]):\n",
    "                    if j%2==0:\n",
    "                        c_new.append(1*c_[j+mul])\n",
    "                    elif j%2==1:\n",
    "                        c_new.append(-1*c_[j+mul])\n",
    "            elif i%2==1:\n",
    "                for j in range(a.shape[0]):\n",
    "                    if j%2==0:\n",
    "                        c_new.append(-1*c_[j+mul])\n",
    "                    elif j%2==1:\n",
    "                        c_new.append(1*c_[j+mul])\n",
    "            #print(c_new)\n",
    "        a_new=np.array(c_new).reshape((a.shape[0],a.shape[0]))\n",
    "    #print(a_new)\n",
    "    elif a.shape[0]%2==1:\n",
    "        for i in range(int(len(c_))):\n",
    "            if i%2==0:\n",
    "                c_new.append(1*c_[i])\n",
    "            elif i%2==1:\n",
    "                c_new.append(-1*c_[i])\n",
    "        a_new=np.array(c_new).reshape((a.shape[0],a.shape[0]))\n",
    "    #print(a_new)\n",
    "    \n",
    "yep=np.matrix([[27,47,21,48],[12,6,16,4],[19,43,21,10],[18,53,2,8]])\n",
    "adj(yep)"
   ]
  },
  {
   "cell_type": "code",
   "execution_count": 246,
   "id": "38a460ed",
   "metadata": {},
   "outputs": [
    {
     "name": "stdout",
     "output_type": "stream",
     "text": [
      "[[ 0.308654 -0.067788 -0.053286  0.014712]\n",
      " [ 0.797239 -0.213672 -0.121974  0.068295]\n",
      " [-0.541191  0.131616  0.087654 -0.032181]\n",
      " [-0.194766  0.051558  0.033072 -0.016458]]\n",
      "243719.99999999983\n"
     ]
    }
   ],
   "source": [
    "peep=np.matrix([[0.3,0.15,0.21,0.48],[1.42,0.46,1.16,0.91],[0.19,0.43,0.13,1.70],[1.28,0.53,1.41,0.28]])\n",
    "adj(peep)\n",
    "print(a_new)\n",
    "print(np.linalg.det(yep))"
   ]
  },
  {
   "cell_type": "code",
   "execution_count": 160,
   "id": "14450f26",
   "metadata": {
    "scrolled": false
   },
   "outputs": [
    {
     "name": "stdout",
     "output_type": "stream",
     "text": [
      "[[ -3 -11   8]\n",
      " [  6  -5   2]\n",
      " [ -3  13  -7]]\n",
      "9\n",
      "[[-0.33333333 -1.22222222  0.88888889]\n",
      " [ 0.66666667 -0.55555556  0.22222222]\n",
      " [-0.33333333  1.44444444 -0.77777778]]\n",
      "\n",
      "\n",
      "[[1 0 0]\n",
      " [0 1 0]\n",
      " [0 0 1]]\n",
      "W\n"
     ]
    }
   ],
   "source": [
    "b=np.matrix([[1,3,2],[4,5,6],[7,8,9]])\n",
    "#print(b)\n",
    "#print(b.shape[1])\n",
    "#print(len(b))\n",
    "c_=[]\n",
    "for i in range(b.shape[0]):\n",
    "    c=np.copy(b)\n",
    "    #print(i)\n",
    "    #print(b[i+1:])\n",
    "    #print(b[0,i])\n",
    "    #c_n=np.delete(c,0,0)\n",
    "    for j in range(b.shape[0]):\n",
    "        #print(c[i,j])\n",
    "        #print(b[j,i])\n",
    "        #c_n=np.delete(c,i,j)\n",
    "        c_i=np.delete(c,j,0)\n",
    "        c_i=np.delete(c_i,i,1)\n",
    "        c_a=round(np.linalg.det(c_i))\n",
    "        c_.append(c_a)\n",
    "#print(c_)\n",
    "#print(c_i)\n",
    "#print(c_a)\n",
    "#print(c_)\n",
    "#print(round(c_[0]))\n",
    "yep=3\n",
    "c_new=[]\n",
    "for i in range(len(c_)):\n",
    "    if i%2==0:\n",
    "        #print(-1*c_[i])\n",
    "        c_new.append(1*c_[i])\n",
    "        \n",
    "    elif i%2==1:\n",
    "        #print(-1*c_[i])\n",
    "        c_new.append(-1*c_[i])\n",
    "        \n",
    "#print(c_new)\n",
    "\n",
    "b_new=np.array(c_new).reshape((b.shape[0],b.shape[0]))\n",
    "print(b_new)\n",
    "\n",
    "det_b=round(np.linalg.det(b))\n",
    "\n",
    "print(det_b)\n",
    "\n",
    "inv_b=(1/(np.linalg.det(b)))*b_new\n",
    "print(inv_b)\n",
    "\n",
    "print(\"\\n\")\n",
    "prod_unf=b*inv_b\n",
    "yeh=[]\n",
    "for i in range(b.shape[0]):\n",
    "    for j in range(b.shape[0]):\n",
    "        yeh.append(round(prod_unf[i,j]))\n",
    "prod=np.array(yeh).reshape((b.shape[0],b.shape[0]))\n",
    "print(prod)\n",
    "\n",
    "check=np.identity(b.shape[0])\n",
    "\n",
    "if prod.all()==check.all():\n",
    "    print(\"W\")"
   ]
  },
  {
   "cell_type": "code",
   "execution_count": 127,
   "id": "a3304c3f",
   "metadata": {},
   "outputs": [
    {
     "name": "stdout",
     "output_type": "stream",
     "text": [
      "[[1 2 3]\n",
      " [4 5 6]\n",
      " [7 8 9]]\n",
      "[[5 6]\n",
      " [8 9]]\n",
      "[[2 3]\n",
      " [8 9]]\n",
      "[[2 3]\n",
      " [5 6]]\n",
      "[[4 6]\n",
      " [7 9]]\n",
      "[[1 3]\n",
      " [7 9]]\n",
      "[[1 3]\n",
      " [4 6]]\n",
      "[[4 5]\n",
      " [7 8]]\n",
      "[[1 2]\n",
      " [7 8]]\n",
      "[[1 2]\n",
      " [4 5]]\n"
     ]
    }
   ],
   "source": [
    "c2=[]\n",
    "#print(c_)\n",
    "c_n=np.matrix([[5,6],[8,9]])\n",
    "c_q=np.linalg.det(c_n)\n",
    "#print(c_n)\n",
    "#print(c_q)\n",
    "c2.append(c_q)\n",
    "\n",
    "c_ewe=np.matrix([[1,2,3],[4,5,6],[7,8,9]])\n",
    "#print(np.delete(c_ewe,0,0))\n",
    "print(c_ewe)\n",
    "#c_fl=c_ewe.flatten()\n",
    "#print(c_fl[0])\n",
    "#for i in range(c_ewe.shape[0]):\n",
    "#    #print(c_fl)\n",
    "#    c_fl=np.delete(c_fl,i)\n",
    "#print(c_fl)\n",
    "\n",
    "for i in range(c_ewe.shape[0]):\n",
    "    #print(c_fl)\n",
    "    #c_f=np.delete(c_ewe,i,0)\n",
    "    for j in range(c_ewe.shape[0]):\n",
    "        c_f=np.delete(c_ewe,j,0)\n",
    "        #print(c_f)\n",
    "        c_f=np.delete(c_f,i,1)\n",
    "        print(c_f)\n"
   ]
  },
  {
   "cell_type": "code",
   "execution_count": 242,
   "id": "57ffc4ce",
   "metadata": {},
   "outputs": [],
   "source": [
    "def inverse_matrix(a,xt=False):\n",
    "    adj(a)\n",
    "    adj_a=a_new\n",
    "    det_a=np.linalg.det(a)\n",
    "    \n",
    "    #print(adj_a)\n",
    "    #print(det_a)\n",
    "    \n",
    "    #checker\n",
    "    if det_a==0:\n",
    "        print(\"This matrix is not invertible\")\n",
    "        print(\":(\")\n",
    "    else:\n",
    "        inv_a=(1/det_a)*adj_a\n",
    "        prod_unf=a*inv_a\n",
    "        yeh=[]\n",
    "        for i in range(a.shape[0]):\n",
    "            for j in range(a.shape[0]):\n",
    "                yeh.append(round(prod_unf[i,j]))\n",
    "        prod=np.array(yeh).reshape((a.shape[0],a.shape[0]))\n",
    "        if prod.all()==np.identity(a.shape[0]).all():\n",
    "            #print(prod)\n",
    "            print(\"This matrix is invertible\")\n",
    "            if xt==True:\n",
    "                print(\"\\n\")\n",
    "                print(\"{} is your original matrix\".format(a))\n",
    "                print(\"\\n\")\n",
    "                print(\"{} is the adjunct of your matrix\".format(adj_a))\n",
    "                print(\"\\n\")\n",
    "                print(\"{:.4g} is the determinant of your matrix\".format(det_a))\n",
    "            print(\"\\n\")\n",
    "            print(\"{} is the inverse of your matrix\".format(inv_a))\n",
    "        else:\n",
    "            print(\"This matrix is not invertible\")\n",
    "            print(\":(\")"
   ]
  },
  {
   "cell_type": "code",
   "execution_count": 243,
   "id": "198bcc29",
   "metadata": {},
   "outputs": [
    {
     "name": "stdout",
     "output_type": "stream",
     "text": [
      "This matrix is invertible\n",
      "\n",
      "\n",
      "[[0.3  0.15 0.21 0.48]\n",
      " [1.42 0.46 1.16 0.91]\n",
      " [0.19 0.43 0.13 1.7 ]\n",
      " [1.28 0.53 1.41 0.28]] is your original matrix\n",
      "\n",
      "\n",
      "[[ 0.308654 -0.067788 -0.053286  0.014712]\n",
      " [ 0.797239 -0.213672 -0.121974  0.068295]\n",
      " [-0.541191  0.131616  0.087654 -0.032181]\n",
      " [-0.194766  0.051558  0.033072 -0.016458]] is the adjunct of your matrix\n",
      "\n",
      "\n",
      "0.005044 is the determinant of your matrix\n",
      "\n",
      "\n",
      "[[  61.18915361  -13.43864115  -10.56369021    2.91658241]\n",
      " [ 158.04875244  -42.35943429  -24.18075198   13.53915143]\n",
      " [-107.28848235   26.09223157   17.37697898   -6.37972666]\n",
      " [ -38.61141178   10.22112262    6.55636307   -3.26271842]] is the inverse of your matrix\n"
     ]
    }
   ],
   "source": [
    "n=np.matrix([[0.3,0.15,0.21,0.48],[1.42,0.46,1.16,0.91],[0.19,0.43,0.13,1.70],[1.28,0.53,1.41,0.28]])\n",
    "inverse_matrix(n,True)"
   ]
  },
  {
   "cell_type": "code",
   "execution_count": 247,
   "id": "6a4a32cd",
   "metadata": {},
   "outputs": [
    {
     "name": "stdout",
     "output_type": "stream",
     "text": [
      "[[17]\n",
      " [39]]\n"
     ]
    }
   ],
   "source": [
    "w=np.matrix([[1,2],[3,4]])\n",
    "e=np.matrix([[5],[6]])\n",
    "print(w*e)"
   ]
  },
  {
   "cell_type": "code",
   "execution_count": null,
   "id": "3c71813b",
   "metadata": {},
   "outputs": [],
   "source": []
  }
 ],
 "metadata": {
  "kernelspec": {
   "display_name": "Python 3 (ipykernel)",
   "language": "python",
   "name": "python3"
  },
  "language_info": {
   "codemirror_mode": {
    "name": "ipython",
    "version": 3
   },
   "file_extension": ".py",
   "mimetype": "text/x-python",
   "name": "python",
   "nbconvert_exporter": "python",
   "pygments_lexer": "ipython3",
   "version": "3.9.7"
  }
 },
 "nbformat": 4,
 "nbformat_minor": 5
}
